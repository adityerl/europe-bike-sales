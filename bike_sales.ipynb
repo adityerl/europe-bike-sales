{
  "nbformat": 4,
  "nbformat_minor": 0,
  "metadata": {
    "colab": {
      "provenance": [],
      "toc_visible": true,
      "mount_file_id": "1rBaGcAB3e3Fx_iNQnCRfoE8hPDA6Qsox",
      "authorship_tag": "ABX9TyOebfaAnGnBqoZFX4h1/MZT",
      "include_colab_link": true
    },
    "kernelspec": {
      "name": "python3",
      "display_name": "Python 3"
    },
    "language_info": {
      "name": "python"
    }
  },
  "cells": [
    {
      "cell_type": "markdown",
      "metadata": {
        "id": "view-in-github",
        "colab_type": "text"
      },
      "source": [
        "<a href=\"https://colab.research.google.com/github/adityerl/europe-bike-sales/blob/main/bike_sales.ipynb\" target=\"_parent\"><img src=\"https://colab.research.google.com/assets/colab-badge.svg\" alt=\"Open In Colab\"/></a>"
      ]
    },
    {
      "cell_type": "markdown",
      "source": [
        "## Exploratory Data Analysis on Europe Bike Sales\n",
        "\n",
        "#### Introduction\n",
        "The background of this dataset is not 100% clear as there is little or conflicting information on the Kaggle website. It seems the dataset contains sales data from a global retail chain for countries Australia, Canada, France, Germany, UK and US in the years 2011 to 2016 and the currency of the sale data is unknown.\n",
        "\n",
        "#### Data Dictionary\n",
        "Date = Date of the order <br>\n",
        "Customer_Age = The Age of customer <br>\n",
        "Customer_Gender = The customer gender <br>\n",
        "Country = The country where the order was made <br>\n",
        "State = The state where the order was made <br>\n",
        "Product_Category = Product category for each order <br>\n",
        "Sub_Category = Product sub category for each order <br>\n",
        "Product = The product for each order <br>\n",
        "Order_Quantity = Quantity of the product <br>\n",
        "Unit_Cost = Cost of inventory holding cost <br>\n",
        "Unit_Price = The price of the product"
      ],
      "metadata": {
        "id": "ezMiNH4PgZmO"
      }
    },
    {
      "cell_type": "code",
      "execution_count": 1,
      "metadata": {
        "id": "gqb_F7xWc9cg"
      },
      "outputs": [],
      "source": [
        "# importing libraries\n",
        "import pandas as pd\n",
        "import matplotlib.pyplot as plt\n",
        "import seaborn as sns\n",
        "\n",
        "plt.style.use('seaborn')\n",
        "\n",
        "# reference https://stackoverflow.com/questions/21137150/format-suppress-scientific-notation-from-pandas-aggregation-results\n",
        "pd.set_option('display.float_format', lambda x: '%.3f' % x)"
      ]
    },
    {
      "cell_type": "code",
      "source": [
        "# load and read dataset\n",
        "bike = pd.read_excel('/content/drive/MyDrive/dataset/bike_sales.xlsx')\n",
        "\n",
        "bike.info()"
      ],
      "metadata": {
        "colab": {
          "base_uri": "https://localhost:8080/"
        },
        "id": "7RwaSaHNdyLK",
        "outputId": "0e78423e-96e2-4623-ce1c-ca8e23cd5c89"
      },
      "execution_count": 2,
      "outputs": [
        {
          "output_type": "stream",
          "name": "stdout",
          "text": [
            "<class 'pandas.core.frame.DataFrame'>\n",
            "RangeIndex: 113036 entries, 0 to 113035\n",
            "Data columns (total 11 columns):\n",
            " #   Column            Non-Null Count   Dtype         \n",
            "---  ------            --------------   -----         \n",
            " 0   Date              113036 non-null  datetime64[ns]\n",
            " 1   Customer_Age      113036 non-null  int64         \n",
            " 2   Customer_Gender   113036 non-null  object        \n",
            " 3   Country           113036 non-null  object        \n",
            " 4   State             113036 non-null  object        \n",
            " 5   Product_Category  113036 non-null  object        \n",
            " 6   Sub_Category      113036 non-null  object        \n",
            " 7   Product           113036 non-null  object        \n",
            " 8   Order_Quantity    113036 non-null  int64         \n",
            " 9   Unit_Cost         113036 non-null  int64         \n",
            " 10  Unit_Price        113036 non-null  int64         \n",
            "dtypes: datetime64[ns](1), int64(4), object(6)\n",
            "memory usage: 9.5+ MB\n"
          ]
        }
      ]
    },
    {
      "cell_type": "code",
      "source": [
        "bike.head()"
      ],
      "metadata": {
        "colab": {
          "base_uri": "https://localhost:8080/",
          "height": 337
        },
        "id": "97bZu2M5eJlt",
        "outputId": "e7f63da1-4f14-492f-e061-ad9b8622481d"
      },
      "execution_count": 3,
      "outputs": [
        {
          "output_type": "execute_result",
          "data": {
            "text/plain": [
              "        Date  Customer_Age Customer_Gender    Country             State  \\\n",
              "0 2013-11-26            19               M     Canada  British Columbia   \n",
              "1 2015-11-26            19               M     Canada  British Columbia   \n",
              "2 2014-03-23            49               M  Australia   New South Wales   \n",
              "3 2016-03-23            49               M  Australia   New South Wales   \n",
              "4 2014-05-15            47               F  Australia   New South Wales   \n",
              "\n",
              "  Product_Category Sub_Category              Product  Order_Quantity  \\\n",
              "0      Accessories   Bike Racks  Hitch Rack - 4-Bike               8   \n",
              "1      Accessories   Bike Racks  Hitch Rack - 4-Bike               8   \n",
              "2      Accessories   Bike Racks  Hitch Rack - 4-Bike              23   \n",
              "3      Accessories   Bike Racks  Hitch Rack - 4-Bike              20   \n",
              "4      Accessories   Bike Racks  Hitch Rack - 4-Bike               4   \n",
              "\n",
              "   Unit_Cost  Unit_Price  \n",
              "0         45         120  \n",
              "1         45         120  \n",
              "2         45         120  \n",
              "3         45         120  \n",
              "4         45         120  "
            ],
            "text/html": [
              "\n",
              "  <div id=\"df-6ec6c184-eec9-4d6c-be6b-44e71ec1d8cc\">\n",
              "    <div class=\"colab-df-container\">\n",
              "      <div>\n",
              "<style scoped>\n",
              "    .dataframe tbody tr th:only-of-type {\n",
              "        vertical-align: middle;\n",
              "    }\n",
              "\n",
              "    .dataframe tbody tr th {\n",
              "        vertical-align: top;\n",
              "    }\n",
              "\n",
              "    .dataframe thead th {\n",
              "        text-align: right;\n",
              "    }\n",
              "</style>\n",
              "<table border=\"1\" class=\"dataframe\">\n",
              "  <thead>\n",
              "    <tr style=\"text-align: right;\">\n",
              "      <th></th>\n",
              "      <th>Date</th>\n",
              "      <th>Customer_Age</th>\n",
              "      <th>Customer_Gender</th>\n",
              "      <th>Country</th>\n",
              "      <th>State</th>\n",
              "      <th>Product_Category</th>\n",
              "      <th>Sub_Category</th>\n",
              "      <th>Product</th>\n",
              "      <th>Order_Quantity</th>\n",
              "      <th>Unit_Cost</th>\n",
              "      <th>Unit_Price</th>\n",
              "    </tr>\n",
              "  </thead>\n",
              "  <tbody>\n",
              "    <tr>\n",
              "      <th>0</th>\n",
              "      <td>2013-11-26</td>\n",
              "      <td>19</td>\n",
              "      <td>M</td>\n",
              "      <td>Canada</td>\n",
              "      <td>British Columbia</td>\n",
              "      <td>Accessories</td>\n",
              "      <td>Bike Racks</td>\n",
              "      <td>Hitch Rack - 4-Bike</td>\n",
              "      <td>8</td>\n",
              "      <td>45</td>\n",
              "      <td>120</td>\n",
              "    </tr>\n",
              "    <tr>\n",
              "      <th>1</th>\n",
              "      <td>2015-11-26</td>\n",
              "      <td>19</td>\n",
              "      <td>M</td>\n",
              "      <td>Canada</td>\n",
              "      <td>British Columbia</td>\n",
              "      <td>Accessories</td>\n",
              "      <td>Bike Racks</td>\n",
              "      <td>Hitch Rack - 4-Bike</td>\n",
              "      <td>8</td>\n",
              "      <td>45</td>\n",
              "      <td>120</td>\n",
              "    </tr>\n",
              "    <tr>\n",
              "      <th>2</th>\n",
              "      <td>2014-03-23</td>\n",
              "      <td>49</td>\n",
              "      <td>M</td>\n",
              "      <td>Australia</td>\n",
              "      <td>New South Wales</td>\n",
              "      <td>Accessories</td>\n",
              "      <td>Bike Racks</td>\n",
              "      <td>Hitch Rack - 4-Bike</td>\n",
              "      <td>23</td>\n",
              "      <td>45</td>\n",
              "      <td>120</td>\n",
              "    </tr>\n",
              "    <tr>\n",
              "      <th>3</th>\n",
              "      <td>2016-03-23</td>\n",
              "      <td>49</td>\n",
              "      <td>M</td>\n",
              "      <td>Australia</td>\n",
              "      <td>New South Wales</td>\n",
              "      <td>Accessories</td>\n",
              "      <td>Bike Racks</td>\n",
              "      <td>Hitch Rack - 4-Bike</td>\n",
              "      <td>20</td>\n",
              "      <td>45</td>\n",
              "      <td>120</td>\n",
              "    </tr>\n",
              "    <tr>\n",
              "      <th>4</th>\n",
              "      <td>2014-05-15</td>\n",
              "      <td>47</td>\n",
              "      <td>F</td>\n",
              "      <td>Australia</td>\n",
              "      <td>New South Wales</td>\n",
              "      <td>Accessories</td>\n",
              "      <td>Bike Racks</td>\n",
              "      <td>Hitch Rack - 4-Bike</td>\n",
              "      <td>4</td>\n",
              "      <td>45</td>\n",
              "      <td>120</td>\n",
              "    </tr>\n",
              "  </tbody>\n",
              "</table>\n",
              "</div>\n",
              "      <button class=\"colab-df-convert\" onclick=\"convertToInteractive('df-6ec6c184-eec9-4d6c-be6b-44e71ec1d8cc')\"\n",
              "              title=\"Convert this dataframe to an interactive table.\"\n",
              "              style=\"display:none;\">\n",
              "        \n",
              "  <svg xmlns=\"http://www.w3.org/2000/svg\" height=\"24px\"viewBox=\"0 0 24 24\"\n",
              "       width=\"24px\">\n",
              "    <path d=\"M0 0h24v24H0V0z\" fill=\"none\"/>\n",
              "    <path d=\"M18.56 5.44l.94 2.06.94-2.06 2.06-.94-2.06-.94-.94-2.06-.94 2.06-2.06.94zm-11 1L8.5 8.5l.94-2.06 2.06-.94-2.06-.94L8.5 2.5l-.94 2.06-2.06.94zm10 10l.94 2.06.94-2.06 2.06-.94-2.06-.94-.94-2.06-.94 2.06-2.06.94z\"/><path d=\"M17.41 7.96l-1.37-1.37c-.4-.4-.92-.59-1.43-.59-.52 0-1.04.2-1.43.59L10.3 9.45l-7.72 7.72c-.78.78-.78 2.05 0 2.83L4 21.41c.39.39.9.59 1.41.59.51 0 1.02-.2 1.41-.59l7.78-7.78 2.81-2.81c.8-.78.8-2.07 0-2.86zM5.41 20L4 18.59l7.72-7.72 1.47 1.35L5.41 20z\"/>\n",
              "  </svg>\n",
              "      </button>\n",
              "      \n",
              "  <style>\n",
              "    .colab-df-container {\n",
              "      display:flex;\n",
              "      flex-wrap:wrap;\n",
              "      gap: 12px;\n",
              "    }\n",
              "\n",
              "    .colab-df-convert {\n",
              "      background-color: #E8F0FE;\n",
              "      border: none;\n",
              "      border-radius: 50%;\n",
              "      cursor: pointer;\n",
              "      display: none;\n",
              "      fill: #1967D2;\n",
              "      height: 32px;\n",
              "      padding: 0 0 0 0;\n",
              "      width: 32px;\n",
              "    }\n",
              "\n",
              "    .colab-df-convert:hover {\n",
              "      background-color: #E2EBFA;\n",
              "      box-shadow: 0px 1px 2px rgba(60, 64, 67, 0.3), 0px 1px 3px 1px rgba(60, 64, 67, 0.15);\n",
              "      fill: #174EA6;\n",
              "    }\n",
              "\n",
              "    [theme=dark] .colab-df-convert {\n",
              "      background-color: #3B4455;\n",
              "      fill: #D2E3FC;\n",
              "    }\n",
              "\n",
              "    [theme=dark] .colab-df-convert:hover {\n",
              "      background-color: #434B5C;\n",
              "      box-shadow: 0px 1px 3px 1px rgba(0, 0, 0, 0.15);\n",
              "      filter: drop-shadow(0px 1px 2px rgba(0, 0, 0, 0.3));\n",
              "      fill: #FFFFFF;\n",
              "    }\n",
              "  </style>\n",
              "\n",
              "      <script>\n",
              "        const buttonEl =\n",
              "          document.querySelector('#df-6ec6c184-eec9-4d6c-be6b-44e71ec1d8cc button.colab-df-convert');\n",
              "        buttonEl.style.display =\n",
              "          google.colab.kernel.accessAllowed ? 'block' : 'none';\n",
              "\n",
              "        async function convertToInteractive(key) {\n",
              "          const element = document.querySelector('#df-6ec6c184-eec9-4d6c-be6b-44e71ec1d8cc');\n",
              "          const dataTable =\n",
              "            await google.colab.kernel.invokeFunction('convertToInteractive',\n",
              "                                                     [key], {});\n",
              "          if (!dataTable) return;\n",
              "\n",
              "          const docLinkHtml = 'Like what you see? Visit the ' +\n",
              "            '<a target=\"_blank\" href=https://colab.research.google.com/notebooks/data_table.ipynb>data table notebook</a>'\n",
              "            + ' to learn more about interactive tables.';\n",
              "          element.innerHTML = '';\n",
              "          dataTable['output_type'] = 'display_data';\n",
              "          await google.colab.output.renderOutput(dataTable, element);\n",
              "          const docLink = document.createElement('div');\n",
              "          docLink.innerHTML = docLinkHtml;\n",
              "          element.appendChild(docLink);\n",
              "        }\n",
              "      </script>\n",
              "    </div>\n",
              "  </div>\n",
              "  "
            ]
          },
          "metadata": {},
          "execution_count": 3
        }
      ]
    },
    {
      "cell_type": "markdown",
      "source": [
        "### Handle missing values"
      ],
      "metadata": {
        "id": "gUB3nTt4qSKJ"
      }
    },
    {
      "cell_type": "code",
      "source": [
        "# sum the missing values\n",
        "bike.isna().sum()"
      ],
      "metadata": {
        "colab": {
          "base_uri": "https://localhost:8080/"
        },
        "id": "zeOoeQJlqUd0",
        "outputId": "1c9590ad-0822-4971-f4cf-69a3f6914be2"
      },
      "execution_count": 4,
      "outputs": [
        {
          "output_type": "execute_result",
          "data": {
            "text/plain": [
              "Date                0\n",
              "Customer_Age        0\n",
              "Customer_Gender     0\n",
              "Country             0\n",
              "State               0\n",
              "Product_Category    0\n",
              "Sub_Category        0\n",
              "Product             0\n",
              "Order_Quantity      0\n",
              "Unit_Cost           0\n",
              "Unit_Price          0\n",
              "dtype: int64"
            ]
          },
          "metadata": {},
          "execution_count": 4
        }
      ]
    },
    {
      "cell_type": "markdown",
      "source": [
        "there's no missing values"
      ],
      "metadata": {
        "id": "XrAKYxBtqk3J"
      }
    },
    {
      "cell_type": "markdown",
      "source": [
        "### Handle duplicated values"
      ],
      "metadata": {
        "id": "lZBLA805qvG5"
      }
    },
    {
      "cell_type": "code",
      "source": [
        "# sum the duplicated values\n",
        "bike.duplicated().sum()"
      ],
      "metadata": {
        "colab": {
          "base_uri": "https://localhost:8080/"
        },
        "id": "0tCXROjVqjmL",
        "outputId": "be17cae4-1413-404a-bc74-195c8f71ec47"
      },
      "execution_count": 5,
      "outputs": [
        {
          "output_type": "execute_result",
          "data": {
            "text/plain": [
              "1000"
            ]
          },
          "metadata": {},
          "execution_count": 5
        }
      ]
    },
    {
      "cell_type": "code",
      "source": [
        "# take a closer look\n",
        "bike.loc[bike.duplicated(keep=False)].head(20)"
      ],
      "metadata": {
        "colab": {
          "base_uri": "https://localhost:8080/",
          "height": 1000
        },
        "id": "_3dWNdnVrUwK",
        "outputId": "16b4561a-f377-4e62-80c7-2e54badb403d"
      },
      "execution_count": 6,
      "outputs": [
        {
          "output_type": "execute_result",
          "data": {
            "text/plain": [
              "           Date  Customer_Age Customer_Gender    Country              State  \\\n",
              "1020 2013-12-19            22               M  Australia    New South Wales   \n",
              "1021 2013-12-19            22               M  Australia    New South Wales   \n",
              "1090 2015-09-30            42               F  Australia           Victoria   \n",
              "1091 2015-09-30            42               F  Australia           Victoria   \n",
              "1092 2013-10-24            42               F  Australia           Victoria   \n",
              "1093 2013-10-24            42               F  Australia           Victoria   \n",
              "1094 2015-10-24            42               F  Australia           Victoria   \n",
              "1095 2015-10-24            42               F  Australia           Victoria   \n",
              "1192 2016-01-15            42               M     France  Seine Saint Denis   \n",
              "1193 2016-01-15            42               M     France  Seine Saint Denis   \n",
              "1202 2014-04-20            65               M     Canada   British Columbia   \n",
              "1203 2014-04-20            65               M     Canada   British Columbia   \n",
              "1212 2014-07-26            65               M     Canada   British Columbia   \n",
              "1213 2014-07-26            65               M     Canada   British Columbia   \n",
              "1536 2013-12-09            20               M     France            Yveline   \n",
              "1537 2013-12-09            20               M     France            Yveline   \n",
              "1540 2013-12-12            22               M     France      Seine (Paris)   \n",
              "1541 2013-12-12            22               M     France      Seine (Paris)   \n",
              "1594 2013-11-22            31               F     Canada   British Columbia   \n",
              "1595 2013-11-22            31               F     Canada   British Columbia   \n",
              "\n",
              "     Product_Category       Sub_Category                 Product  \\\n",
              "1020      Accessories        Bike Stands  All-Purpose Bike Stand   \n",
              "1021      Accessories        Bike Stands  All-Purpose Bike Stand   \n",
              "1090      Accessories  Bottles and Cages    Mountain Bottle Cage   \n",
              "1091      Accessories  Bottles and Cages    Mountain Bottle Cage   \n",
              "1092      Accessories  Bottles and Cages    Mountain Bottle Cage   \n",
              "1093      Accessories  Bottles and Cages    Mountain Bottle Cage   \n",
              "1094      Accessories  Bottles and Cages    Mountain Bottle Cage   \n",
              "1095      Accessories  Bottles and Cages    Mountain Bottle Cage   \n",
              "1192      Accessories  Bottles and Cages   Water Bottle - 30 oz.   \n",
              "1193      Accessories  Bottles and Cages   Water Bottle - 30 oz.   \n",
              "1202      Accessories  Bottles and Cages    Mountain Bottle Cage   \n",
              "1203      Accessories  Bottles and Cages    Mountain Bottle Cage   \n",
              "1212      Accessories  Bottles and Cages    Mountain Bottle Cage   \n",
              "1213      Accessories  Bottles and Cages    Mountain Bottle Cage   \n",
              "1536      Accessories  Bottles and Cages   Water Bottle - 30 oz.   \n",
              "1537      Accessories  Bottles and Cages   Water Bottle - 30 oz.   \n",
              "1540      Accessories  Bottles and Cages   Water Bottle - 30 oz.   \n",
              "1541      Accessories  Bottles and Cages   Water Bottle - 30 oz.   \n",
              "1594      Accessories  Bottles and Cages   Water Bottle - 30 oz.   \n",
              "1595      Accessories  Bottles and Cages   Water Bottle - 30 oz.   \n",
              "\n",
              "      Order_Quantity  Unit_Cost  Unit_Price  \n",
              "1020               9         59         159  \n",
              "1021               9         59         159  \n",
              "1090               5          4          10  \n",
              "1091               5          4          10  \n",
              "1092               2          4          10  \n",
              "1093               2          4          10  \n",
              "1094               1          4          10  \n",
              "1095               1          4          10  \n",
              "1192              14          2           5  \n",
              "1193              14          2           5  \n",
              "1202              27          4          10  \n",
              "1203              27          4          10  \n",
              "1212              20          4          10  \n",
              "1213              20          4          10  \n",
              "1536              19          2           5  \n",
              "1537              19          2           5  \n",
              "1540              19          2           5  \n",
              "1541              19          2           5  \n",
              "1594              22          2           5  \n",
              "1595              22          2           5  "
            ],
            "text/html": [
              "\n",
              "  <div id=\"df-dedd0dec-e460-492b-bd52-0e2b71d75697\">\n",
              "    <div class=\"colab-df-container\">\n",
              "      <div>\n",
              "<style scoped>\n",
              "    .dataframe tbody tr th:only-of-type {\n",
              "        vertical-align: middle;\n",
              "    }\n",
              "\n",
              "    .dataframe tbody tr th {\n",
              "        vertical-align: top;\n",
              "    }\n",
              "\n",
              "    .dataframe thead th {\n",
              "        text-align: right;\n",
              "    }\n",
              "</style>\n",
              "<table border=\"1\" class=\"dataframe\">\n",
              "  <thead>\n",
              "    <tr style=\"text-align: right;\">\n",
              "      <th></th>\n",
              "      <th>Date</th>\n",
              "      <th>Customer_Age</th>\n",
              "      <th>Customer_Gender</th>\n",
              "      <th>Country</th>\n",
              "      <th>State</th>\n",
              "      <th>Product_Category</th>\n",
              "      <th>Sub_Category</th>\n",
              "      <th>Product</th>\n",
              "      <th>Order_Quantity</th>\n",
              "      <th>Unit_Cost</th>\n",
              "      <th>Unit_Price</th>\n",
              "    </tr>\n",
              "  </thead>\n",
              "  <tbody>\n",
              "    <tr>\n",
              "      <th>1020</th>\n",
              "      <td>2013-12-19</td>\n",
              "      <td>22</td>\n",
              "      <td>M</td>\n",
              "      <td>Australia</td>\n",
              "      <td>New South Wales</td>\n",
              "      <td>Accessories</td>\n",
              "      <td>Bike Stands</td>\n",
              "      <td>All-Purpose Bike Stand</td>\n",
              "      <td>9</td>\n",
              "      <td>59</td>\n",
              "      <td>159</td>\n",
              "    </tr>\n",
              "    <tr>\n",
              "      <th>1021</th>\n",
              "      <td>2013-12-19</td>\n",
              "      <td>22</td>\n",
              "      <td>M</td>\n",
              "      <td>Australia</td>\n",
              "      <td>New South Wales</td>\n",
              "      <td>Accessories</td>\n",
              "      <td>Bike Stands</td>\n",
              "      <td>All-Purpose Bike Stand</td>\n",
              "      <td>9</td>\n",
              "      <td>59</td>\n",
              "      <td>159</td>\n",
              "    </tr>\n",
              "    <tr>\n",
              "      <th>1090</th>\n",
              "      <td>2015-09-30</td>\n",
              "      <td>42</td>\n",
              "      <td>F</td>\n",
              "      <td>Australia</td>\n",
              "      <td>Victoria</td>\n",
              "      <td>Accessories</td>\n",
              "      <td>Bottles and Cages</td>\n",
              "      <td>Mountain Bottle Cage</td>\n",
              "      <td>5</td>\n",
              "      <td>4</td>\n",
              "      <td>10</td>\n",
              "    </tr>\n",
              "    <tr>\n",
              "      <th>1091</th>\n",
              "      <td>2015-09-30</td>\n",
              "      <td>42</td>\n",
              "      <td>F</td>\n",
              "      <td>Australia</td>\n",
              "      <td>Victoria</td>\n",
              "      <td>Accessories</td>\n",
              "      <td>Bottles and Cages</td>\n",
              "      <td>Mountain Bottle Cage</td>\n",
              "      <td>5</td>\n",
              "      <td>4</td>\n",
              "      <td>10</td>\n",
              "    </tr>\n",
              "    <tr>\n",
              "      <th>1092</th>\n",
              "      <td>2013-10-24</td>\n",
              "      <td>42</td>\n",
              "      <td>F</td>\n",
              "      <td>Australia</td>\n",
              "      <td>Victoria</td>\n",
              "      <td>Accessories</td>\n",
              "      <td>Bottles and Cages</td>\n",
              "      <td>Mountain Bottle Cage</td>\n",
              "      <td>2</td>\n",
              "      <td>4</td>\n",
              "      <td>10</td>\n",
              "    </tr>\n",
              "    <tr>\n",
              "      <th>1093</th>\n",
              "      <td>2013-10-24</td>\n",
              "      <td>42</td>\n",
              "      <td>F</td>\n",
              "      <td>Australia</td>\n",
              "      <td>Victoria</td>\n",
              "      <td>Accessories</td>\n",
              "      <td>Bottles and Cages</td>\n",
              "      <td>Mountain Bottle Cage</td>\n",
              "      <td>2</td>\n",
              "      <td>4</td>\n",
              "      <td>10</td>\n",
              "    </tr>\n",
              "    <tr>\n",
              "      <th>1094</th>\n",
              "      <td>2015-10-24</td>\n",
              "      <td>42</td>\n",
              "      <td>F</td>\n",
              "      <td>Australia</td>\n",
              "      <td>Victoria</td>\n",
              "      <td>Accessories</td>\n",
              "      <td>Bottles and Cages</td>\n",
              "      <td>Mountain Bottle Cage</td>\n",
              "      <td>1</td>\n",
              "      <td>4</td>\n",
              "      <td>10</td>\n",
              "    </tr>\n",
              "    <tr>\n",
              "      <th>1095</th>\n",
              "      <td>2015-10-24</td>\n",
              "      <td>42</td>\n",
              "      <td>F</td>\n",
              "      <td>Australia</td>\n",
              "      <td>Victoria</td>\n",
              "      <td>Accessories</td>\n",
              "      <td>Bottles and Cages</td>\n",
              "      <td>Mountain Bottle Cage</td>\n",
              "      <td>1</td>\n",
              "      <td>4</td>\n",
              "      <td>10</td>\n",
              "    </tr>\n",
              "    <tr>\n",
              "      <th>1192</th>\n",
              "      <td>2016-01-15</td>\n",
              "      <td>42</td>\n",
              "      <td>M</td>\n",
              "      <td>France</td>\n",
              "      <td>Seine Saint Denis</td>\n",
              "      <td>Accessories</td>\n",
              "      <td>Bottles and Cages</td>\n",
              "      <td>Water Bottle - 30 oz.</td>\n",
              "      <td>14</td>\n",
              "      <td>2</td>\n",
              "      <td>5</td>\n",
              "    </tr>\n",
              "    <tr>\n",
              "      <th>1193</th>\n",
              "      <td>2016-01-15</td>\n",
              "      <td>42</td>\n",
              "      <td>M</td>\n",
              "      <td>France</td>\n",
              "      <td>Seine Saint Denis</td>\n",
              "      <td>Accessories</td>\n",
              "      <td>Bottles and Cages</td>\n",
              "      <td>Water Bottle - 30 oz.</td>\n",
              "      <td>14</td>\n",
              "      <td>2</td>\n",
              "      <td>5</td>\n",
              "    </tr>\n",
              "    <tr>\n",
              "      <th>1202</th>\n",
              "      <td>2014-04-20</td>\n",
              "      <td>65</td>\n",
              "      <td>M</td>\n",
              "      <td>Canada</td>\n",
              "      <td>British Columbia</td>\n",
              "      <td>Accessories</td>\n",
              "      <td>Bottles and Cages</td>\n",
              "      <td>Mountain Bottle Cage</td>\n",
              "      <td>27</td>\n",
              "      <td>4</td>\n",
              "      <td>10</td>\n",
              "    </tr>\n",
              "    <tr>\n",
              "      <th>1203</th>\n",
              "      <td>2014-04-20</td>\n",
              "      <td>65</td>\n",
              "      <td>M</td>\n",
              "      <td>Canada</td>\n",
              "      <td>British Columbia</td>\n",
              "      <td>Accessories</td>\n",
              "      <td>Bottles and Cages</td>\n",
              "      <td>Mountain Bottle Cage</td>\n",
              "      <td>27</td>\n",
              "      <td>4</td>\n",
              "      <td>10</td>\n",
              "    </tr>\n",
              "    <tr>\n",
              "      <th>1212</th>\n",
              "      <td>2014-07-26</td>\n",
              "      <td>65</td>\n",
              "      <td>M</td>\n",
              "      <td>Canada</td>\n",
              "      <td>British Columbia</td>\n",
              "      <td>Accessories</td>\n",
              "      <td>Bottles and Cages</td>\n",
              "      <td>Mountain Bottle Cage</td>\n",
              "      <td>20</td>\n",
              "      <td>4</td>\n",
              "      <td>10</td>\n",
              "    </tr>\n",
              "    <tr>\n",
              "      <th>1213</th>\n",
              "      <td>2014-07-26</td>\n",
              "      <td>65</td>\n",
              "      <td>M</td>\n",
              "      <td>Canada</td>\n",
              "      <td>British Columbia</td>\n",
              "      <td>Accessories</td>\n",
              "      <td>Bottles and Cages</td>\n",
              "      <td>Mountain Bottle Cage</td>\n",
              "      <td>20</td>\n",
              "      <td>4</td>\n",
              "      <td>10</td>\n",
              "    </tr>\n",
              "    <tr>\n",
              "      <th>1536</th>\n",
              "      <td>2013-12-09</td>\n",
              "      <td>20</td>\n",
              "      <td>M</td>\n",
              "      <td>France</td>\n",
              "      <td>Yveline</td>\n",
              "      <td>Accessories</td>\n",
              "      <td>Bottles and Cages</td>\n",
              "      <td>Water Bottle - 30 oz.</td>\n",
              "      <td>19</td>\n",
              "      <td>2</td>\n",
              "      <td>5</td>\n",
              "    </tr>\n",
              "    <tr>\n",
              "      <th>1537</th>\n",
              "      <td>2013-12-09</td>\n",
              "      <td>20</td>\n",
              "      <td>M</td>\n",
              "      <td>France</td>\n",
              "      <td>Yveline</td>\n",
              "      <td>Accessories</td>\n",
              "      <td>Bottles and Cages</td>\n",
              "      <td>Water Bottle - 30 oz.</td>\n",
              "      <td>19</td>\n",
              "      <td>2</td>\n",
              "      <td>5</td>\n",
              "    </tr>\n",
              "    <tr>\n",
              "      <th>1540</th>\n",
              "      <td>2013-12-12</td>\n",
              "      <td>22</td>\n",
              "      <td>M</td>\n",
              "      <td>France</td>\n",
              "      <td>Seine (Paris)</td>\n",
              "      <td>Accessories</td>\n",
              "      <td>Bottles and Cages</td>\n",
              "      <td>Water Bottle - 30 oz.</td>\n",
              "      <td>19</td>\n",
              "      <td>2</td>\n",
              "      <td>5</td>\n",
              "    </tr>\n",
              "    <tr>\n",
              "      <th>1541</th>\n",
              "      <td>2013-12-12</td>\n",
              "      <td>22</td>\n",
              "      <td>M</td>\n",
              "      <td>France</td>\n",
              "      <td>Seine (Paris)</td>\n",
              "      <td>Accessories</td>\n",
              "      <td>Bottles and Cages</td>\n",
              "      <td>Water Bottle - 30 oz.</td>\n",
              "      <td>19</td>\n",
              "      <td>2</td>\n",
              "      <td>5</td>\n",
              "    </tr>\n",
              "    <tr>\n",
              "      <th>1594</th>\n",
              "      <td>2013-11-22</td>\n",
              "      <td>31</td>\n",
              "      <td>F</td>\n",
              "      <td>Canada</td>\n",
              "      <td>British Columbia</td>\n",
              "      <td>Accessories</td>\n",
              "      <td>Bottles and Cages</td>\n",
              "      <td>Water Bottle - 30 oz.</td>\n",
              "      <td>22</td>\n",
              "      <td>2</td>\n",
              "      <td>5</td>\n",
              "    </tr>\n",
              "    <tr>\n",
              "      <th>1595</th>\n",
              "      <td>2013-11-22</td>\n",
              "      <td>31</td>\n",
              "      <td>F</td>\n",
              "      <td>Canada</td>\n",
              "      <td>British Columbia</td>\n",
              "      <td>Accessories</td>\n",
              "      <td>Bottles and Cages</td>\n",
              "      <td>Water Bottle - 30 oz.</td>\n",
              "      <td>22</td>\n",
              "      <td>2</td>\n",
              "      <td>5</td>\n",
              "    </tr>\n",
              "  </tbody>\n",
              "</table>\n",
              "</div>\n",
              "      <button class=\"colab-df-convert\" onclick=\"convertToInteractive('df-dedd0dec-e460-492b-bd52-0e2b71d75697')\"\n",
              "              title=\"Convert this dataframe to an interactive table.\"\n",
              "              style=\"display:none;\">\n",
              "        \n",
              "  <svg xmlns=\"http://www.w3.org/2000/svg\" height=\"24px\"viewBox=\"0 0 24 24\"\n",
              "       width=\"24px\">\n",
              "    <path d=\"M0 0h24v24H0V0z\" fill=\"none\"/>\n",
              "    <path d=\"M18.56 5.44l.94 2.06.94-2.06 2.06-.94-2.06-.94-.94-2.06-.94 2.06-2.06.94zm-11 1L8.5 8.5l.94-2.06 2.06-.94-2.06-.94L8.5 2.5l-.94 2.06-2.06.94zm10 10l.94 2.06.94-2.06 2.06-.94-2.06-.94-.94-2.06-.94 2.06-2.06.94z\"/><path d=\"M17.41 7.96l-1.37-1.37c-.4-.4-.92-.59-1.43-.59-.52 0-1.04.2-1.43.59L10.3 9.45l-7.72 7.72c-.78.78-.78 2.05 0 2.83L4 21.41c.39.39.9.59 1.41.59.51 0 1.02-.2 1.41-.59l7.78-7.78 2.81-2.81c.8-.78.8-2.07 0-2.86zM5.41 20L4 18.59l7.72-7.72 1.47 1.35L5.41 20z\"/>\n",
              "  </svg>\n",
              "      </button>\n",
              "      \n",
              "  <style>\n",
              "    .colab-df-container {\n",
              "      display:flex;\n",
              "      flex-wrap:wrap;\n",
              "      gap: 12px;\n",
              "    }\n",
              "\n",
              "    .colab-df-convert {\n",
              "      background-color: #E8F0FE;\n",
              "      border: none;\n",
              "      border-radius: 50%;\n",
              "      cursor: pointer;\n",
              "      display: none;\n",
              "      fill: #1967D2;\n",
              "      height: 32px;\n",
              "      padding: 0 0 0 0;\n",
              "      width: 32px;\n",
              "    }\n",
              "\n",
              "    .colab-df-convert:hover {\n",
              "      background-color: #E2EBFA;\n",
              "      box-shadow: 0px 1px 2px rgba(60, 64, 67, 0.3), 0px 1px 3px 1px rgba(60, 64, 67, 0.15);\n",
              "      fill: #174EA6;\n",
              "    }\n",
              "\n",
              "    [theme=dark] .colab-df-convert {\n",
              "      background-color: #3B4455;\n",
              "      fill: #D2E3FC;\n",
              "    }\n",
              "\n",
              "    [theme=dark] .colab-df-convert:hover {\n",
              "      background-color: #434B5C;\n",
              "      box-shadow: 0px 1px 3px 1px rgba(0, 0, 0, 0.15);\n",
              "      filter: drop-shadow(0px 1px 2px rgba(0, 0, 0, 0.3));\n",
              "      fill: #FFFFFF;\n",
              "    }\n",
              "  </style>\n",
              "\n",
              "      <script>\n",
              "        const buttonEl =\n",
              "          document.querySelector('#df-dedd0dec-e460-492b-bd52-0e2b71d75697 button.colab-df-convert');\n",
              "        buttonEl.style.display =\n",
              "          google.colab.kernel.accessAllowed ? 'block' : 'none';\n",
              "\n",
              "        async function convertToInteractive(key) {\n",
              "          const element = document.querySelector('#df-dedd0dec-e460-492b-bd52-0e2b71d75697');\n",
              "          const dataTable =\n",
              "            await google.colab.kernel.invokeFunction('convertToInteractive',\n",
              "                                                     [key], {});\n",
              "          if (!dataTable) return;\n",
              "\n",
              "          const docLinkHtml = 'Like what you see? Visit the ' +\n",
              "            '<a target=\"_blank\" href=https://colab.research.google.com/notebooks/data_table.ipynb>data table notebook</a>'\n",
              "            + ' to learn more about interactive tables.';\n",
              "          element.innerHTML = '';\n",
              "          dataTable['output_type'] = 'display_data';\n",
              "          await google.colab.output.renderOutput(dataTable, element);\n",
              "          const docLink = document.createElement('div');\n",
              "          docLink.innerHTML = docLinkHtml;\n",
              "          element.appendChild(docLink);\n",
              "        }\n",
              "      </script>\n",
              "    </div>\n",
              "  </div>\n",
              "  "
            ]
          },
          "metadata": {},
          "execution_count": 6
        }
      ]
    },
    {
      "cell_type": "code",
      "source": [
        "# remove the 1000 duplicated values\n",
        "bike.drop_duplicates(inplace=True)\n",
        "\n",
        "bike.shape"
      ],
      "metadata": {
        "colab": {
          "base_uri": "https://localhost:8080/"
        },
        "id": "rfy0DKjGr3mi",
        "outputId": "5e5c03d6-9c56-4bbc-8710-dd89d9ea5dde"
      },
      "execution_count": 7,
      "outputs": [
        {
          "output_type": "execute_result",
          "data": {
            "text/plain": [
              "(112036, 11)"
            ]
          },
          "metadata": {},
          "execution_count": 7
        }
      ]
    },
    {
      "cell_type": "markdown",
      "source": [
        "### Create new columns\n",
        "We will create Year, Month, Total Cost, Revenue and Profit column"
      ],
      "metadata": {
        "id": "eBxep5Jds35B"
      }
    },
    {
      "cell_type": "markdown",
      "source": [
        "#### Create Year column"
      ],
      "metadata": {
        "id": "c6639gWCtXqA"
      }
    },
    {
      "cell_type": "code",
      "source": [
        "# creating the column\n",
        "bike.insert(1, 'Year', 0)\n",
        "\n",
        "bike['Year'] = bike['Date'].dt.year\n",
        "\n",
        "bike['Year']"
      ],
      "metadata": {
        "colab": {
          "base_uri": "https://localhost:8080/"
        },
        "id": "Hla418TMrIR3",
        "outputId": "d8303134-fd65-4c7a-8207-bfea40376443"
      },
      "execution_count": 8,
      "outputs": [
        {
          "output_type": "execute_result",
          "data": {
            "text/plain": [
              "0         2013\n",
              "1         2015\n",
              "2         2014\n",
              "3         2016\n",
              "4         2014\n",
              "          ... \n",
              "113031    2016\n",
              "113032    2014\n",
              "113033    2016\n",
              "113034    2014\n",
              "113035    2016\n",
              "Name: Year, Length: 112036, dtype: int64"
            ]
          },
          "metadata": {},
          "execution_count": 8
        }
      ]
    },
    {
      "cell_type": "markdown",
      "source": [
        "#### Create Month column"
      ],
      "metadata": {
        "id": "u6P5g7lvuWGR"
      }
    },
    {
      "cell_type": "code",
      "source": [
        "# creating the column\n",
        "bike.insert(2, 'Month', 0)\n",
        "\n",
        "bike['Month'] = bike['Date'].dt.month\n",
        "\n",
        "bike['Month']"
      ],
      "metadata": {
        "colab": {
          "base_uri": "https://localhost:8080/"
        },
        "id": "OxGJvVZ6ts-t",
        "outputId": "14f19bbf-03bd-446d-d04a-a0ab9575236d"
      },
      "execution_count": 9,
      "outputs": [
        {
          "output_type": "execute_result",
          "data": {
            "text/plain": [
              "0         11\n",
              "1         11\n",
              "2          3\n",
              "3          3\n",
              "4          5\n",
              "          ..\n",
              "113031     4\n",
              "113032     4\n",
              "113033     4\n",
              "113034     3\n",
              "113035     3\n",
              "Name: Month, Length: 112036, dtype: int64"
            ]
          },
          "metadata": {},
          "execution_count": 9
        }
      ]
    },
    {
      "cell_type": "markdown",
      "source": [
        "#### Create Total Cost column"
      ],
      "metadata": {
        "id": "XdPV1TFMwP0R"
      }
    },
    {
      "cell_type": "code",
      "source": [
        "# creating the column\n",
        "bike.insert(13, 'Total_Cost', 0)\n",
        "\n",
        "bike['Total_Cost'] = bike['Order_Quantity'] * bike['Unit_Cost']\n",
        "\n",
        "bike['Total_Cost']"
      ],
      "metadata": {
        "colab": {
          "base_uri": "https://localhost:8080/"
        },
        "id": "B_Lh7sLiwJCL",
        "outputId": "1b695427-090d-4726-ac63-11bb5444579e"
      },
      "execution_count": 10,
      "outputs": [
        {
          "output_type": "execute_result",
          "data": {
            "text/plain": [
              "0          360\n",
              "1          360\n",
              "2         1035\n",
              "3          900\n",
              "4          180\n",
              "          ... \n",
              "113031      72\n",
              "113032     528\n",
              "113033     528\n",
              "113034     576\n",
              "113035     552\n",
              "Name: Total_Cost, Length: 112036, dtype: int64"
            ]
          },
          "metadata": {},
          "execution_count": 10
        }
      ]
    },
    {
      "cell_type": "markdown",
      "source": [
        "#### Create Revenue column"
      ],
      "metadata": {
        "id": "P2hNrkA1wVZI"
      }
    },
    {
      "cell_type": "code",
      "source": [
        "# creating the column\n",
        "bike.insert(14, 'Revenue', 0)\n",
        "\n",
        "bike['Revenue'] = bike['Order_Quantity'] * bike['Unit_Price']\n",
        "\n",
        "bike['Revenue']"
      ],
      "metadata": {
        "colab": {
          "base_uri": "https://localhost:8080/"
        },
        "id": "uJ4M3kkcwJES",
        "outputId": "cc0ad738-989c-4e84-ba4f-49b29c88f444"
      },
      "execution_count": 11,
      "outputs": [
        {
          "output_type": "execute_result",
          "data": {
            "text/plain": [
              "0          960\n",
              "1          960\n",
              "2         2760\n",
              "3         2400\n",
              "4          480\n",
              "          ... \n",
              "113031     192\n",
              "113032    1408\n",
              "113033    1408\n",
              "113034    1536\n",
              "113035    1472\n",
              "Name: Revenue, Length: 112036, dtype: int64"
            ]
          },
          "metadata": {},
          "execution_count": 11
        }
      ]
    },
    {
      "cell_type": "markdown",
      "source": [
        "#### Create Profit column"
      ],
      "metadata": {
        "id": "bS1KYPr-wYTo"
      }
    },
    {
      "cell_type": "code",
      "source": [
        "# creating the column\n",
        "bike.insert(15, 'Profit', 0)\n",
        "\n",
        "bike['Profit'] = bike['Revenue'] - bike['Total_Cost']\n",
        "\n",
        "bike['Profit']"
      ],
      "metadata": {
        "colab": {
          "base_uri": "https://localhost:8080/"
        },
        "id": "kmvAhOhqwJGf",
        "outputId": "83d7dd1b-44e4-4ab8-b551-1702ea555e29"
      },
      "execution_count": 12,
      "outputs": [
        {
          "output_type": "execute_result",
          "data": {
            "text/plain": [
              "0          600\n",
              "1          600\n",
              "2         1725\n",
              "3         1500\n",
              "4          300\n",
              "          ... \n",
              "113031     120\n",
              "113032     880\n",
              "113033     880\n",
              "113034     960\n",
              "113035     920\n",
              "Name: Profit, Length: 112036, dtype: int64"
            ]
          },
          "metadata": {},
          "execution_count": 12
        }
      ]
    },
    {
      "cell_type": "markdown",
      "source": [
        "#### Grouping Customer's age"
      ],
      "metadata": {
        "id": "Ezs-jW5KW_si"
      }
    },
    {
      "cell_type": "code",
      "source": [
        "bike['Customer_Age'].unique()"
      ],
      "metadata": {
        "colab": {
          "base_uri": "https://localhost:8080/"
        },
        "id": "HKy2ws9JWsuO",
        "outputId": "d0d898d4-06bc-460d-fe2d-bce61453af63"
      },
      "execution_count": 13,
      "outputs": [
        {
          "output_type": "execute_result",
          "data": {
            "text/plain": [
              "array([19, 49, 47, 35, 32, 34, 29, 51, 48, 43, 61, 57, 38, 52, 24, 23, 26,\n",
              "       54, 46, 41, 33, 42, 45, 53, 21, 22, 67, 31, 37, 87, 25, 40, 44, 55,\n",
              "       50, 59, 17, 27, 28, 36, 56, 58, 30, 18, 62, 39, 64, 63, 20, 60, 84,\n",
              "       68, 65, 73, 69, 66, 75, 76, 78, 71, 72, 82, 86, 77, 74, 85, 81, 80,\n",
              "       70, 79])"
            ]
          },
          "metadata": {},
          "execution_count": 13
        }
      ]
    },
    {
      "cell_type": "code",
      "source": [
        "bike['Customer_Age'].describe()"
      ],
      "metadata": {
        "colab": {
          "base_uri": "https://localhost:8080/"
        },
        "id": "8r5aszf-XLeS",
        "outputId": "7762dd21-51fa-4d83-d44d-d3d6e87bd237"
      },
      "execution_count": 14,
      "outputs": [
        {
          "output_type": "execute_result",
          "data": {
            "text/plain": [
              "count   112036.000\n",
              "mean        35.920\n",
              "std         11.017\n",
              "min         17.000\n",
              "25%         28.000\n",
              "50%         35.000\n",
              "75%         43.000\n",
              "max         87.000\n",
              "Name: Customer_Age, dtype: float64"
            ]
          },
          "metadata": {},
          "execution_count": 14
        }
      ]
    },
    {
      "cell_type": "markdown",
      "source": [
        "Creating the column"
      ],
      "metadata": {
        "id": "h0QqLL5kZlrT"
      }
    },
    {
      "cell_type": "code",
      "source": [
        "bike.insert(4, 'Age_Group', 0)\n",
        "\n",
        "# grouping the age\n",
        "bike.loc[bike['Customer_Age'] <= 30, 'Age_Group'] = '17-30'\n",
        "bike.loc[bike['Customer_Age'].between(31, 50), 'Age_Group'] = '31-50'\n",
        "bike.loc[bike['Customer_Age'].between(51, 70), 'Age_Group'] = '51-70'\n",
        "bike.loc[bike['Customer_Age'] >= 71, 'Age_Group'] = '71-87'\n",
        "\n",
        "bike['Age_Group']"
      ],
      "metadata": {
        "colab": {
          "base_uri": "https://localhost:8080/"
        },
        "id": "MJakhkfjYZTy",
        "outputId": "01175e4c-d46a-4bc5-e219-a15e91989f2f"
      },
      "execution_count": 15,
      "outputs": [
        {
          "output_type": "execute_result",
          "data": {
            "text/plain": [
              "0         17-30\n",
              "1         17-30\n",
              "2         31-50\n",
              "3         31-50\n",
              "4         31-50\n",
              "          ...  \n",
              "113031    31-50\n",
              "113032    17-30\n",
              "113033    17-30\n",
              "113034    31-50\n",
              "113035    31-50\n",
              "Name: Age_Group, Length: 112036, dtype: object"
            ]
          },
          "metadata": {},
          "execution_count": 15
        }
      ]
    },
    {
      "cell_type": "code",
      "source": [
        "bike.head()"
      ],
      "metadata": {
        "colab": {
          "base_uri": "https://localhost:8080/",
          "height": 443
        },
        "id": "QFgCKV4wtaTL",
        "outputId": "495794fe-fd1e-4414-cd97-93bfaa63cc48"
      },
      "execution_count": 16,
      "outputs": [
        {
          "output_type": "execute_result",
          "data": {
            "text/plain": [
              "        Date  Year  Month  Customer_Age Age_Group Customer_Gender    Country  \\\n",
              "0 2013-11-26  2013     11            19     17-30               M     Canada   \n",
              "1 2015-11-26  2015     11            19     17-30               M     Canada   \n",
              "2 2014-03-23  2014      3            49     31-50               M  Australia   \n",
              "3 2016-03-23  2016      3            49     31-50               M  Australia   \n",
              "4 2014-05-15  2014      5            47     31-50               F  Australia   \n",
              "\n",
              "              State Product_Category Sub_Category              Product  \\\n",
              "0  British Columbia      Accessories   Bike Racks  Hitch Rack - 4-Bike   \n",
              "1  British Columbia      Accessories   Bike Racks  Hitch Rack - 4-Bike   \n",
              "2   New South Wales      Accessories   Bike Racks  Hitch Rack - 4-Bike   \n",
              "3   New South Wales      Accessories   Bike Racks  Hitch Rack - 4-Bike   \n",
              "4   New South Wales      Accessories   Bike Racks  Hitch Rack - 4-Bike   \n",
              "\n",
              "   Order_Quantity  Unit_Cost  Unit_Price  Total_Cost  Revenue  Profit  \n",
              "0               8         45         120         360      960     600  \n",
              "1               8         45         120         360      960     600  \n",
              "2              23         45         120        1035     2760    1725  \n",
              "3              20         45         120         900     2400    1500  \n",
              "4               4         45         120         180      480     300  "
            ],
            "text/html": [
              "\n",
              "  <div id=\"df-89a11db0-d168-4bca-9188-6b6500d06a37\">\n",
              "    <div class=\"colab-df-container\">\n",
              "      <div>\n",
              "<style scoped>\n",
              "    .dataframe tbody tr th:only-of-type {\n",
              "        vertical-align: middle;\n",
              "    }\n",
              "\n",
              "    .dataframe tbody tr th {\n",
              "        vertical-align: top;\n",
              "    }\n",
              "\n",
              "    .dataframe thead th {\n",
              "        text-align: right;\n",
              "    }\n",
              "</style>\n",
              "<table border=\"1\" class=\"dataframe\">\n",
              "  <thead>\n",
              "    <tr style=\"text-align: right;\">\n",
              "      <th></th>\n",
              "      <th>Date</th>\n",
              "      <th>Year</th>\n",
              "      <th>Month</th>\n",
              "      <th>Customer_Age</th>\n",
              "      <th>Age_Group</th>\n",
              "      <th>Customer_Gender</th>\n",
              "      <th>Country</th>\n",
              "      <th>State</th>\n",
              "      <th>Product_Category</th>\n",
              "      <th>Sub_Category</th>\n",
              "      <th>Product</th>\n",
              "      <th>Order_Quantity</th>\n",
              "      <th>Unit_Cost</th>\n",
              "      <th>Unit_Price</th>\n",
              "      <th>Total_Cost</th>\n",
              "      <th>Revenue</th>\n",
              "      <th>Profit</th>\n",
              "    </tr>\n",
              "  </thead>\n",
              "  <tbody>\n",
              "    <tr>\n",
              "      <th>0</th>\n",
              "      <td>2013-11-26</td>\n",
              "      <td>2013</td>\n",
              "      <td>11</td>\n",
              "      <td>19</td>\n",
              "      <td>17-30</td>\n",
              "      <td>M</td>\n",
              "      <td>Canada</td>\n",
              "      <td>British Columbia</td>\n",
              "      <td>Accessories</td>\n",
              "      <td>Bike Racks</td>\n",
              "      <td>Hitch Rack - 4-Bike</td>\n",
              "      <td>8</td>\n",
              "      <td>45</td>\n",
              "      <td>120</td>\n",
              "      <td>360</td>\n",
              "      <td>960</td>\n",
              "      <td>600</td>\n",
              "    </tr>\n",
              "    <tr>\n",
              "      <th>1</th>\n",
              "      <td>2015-11-26</td>\n",
              "      <td>2015</td>\n",
              "      <td>11</td>\n",
              "      <td>19</td>\n",
              "      <td>17-30</td>\n",
              "      <td>M</td>\n",
              "      <td>Canada</td>\n",
              "      <td>British Columbia</td>\n",
              "      <td>Accessories</td>\n",
              "      <td>Bike Racks</td>\n",
              "      <td>Hitch Rack - 4-Bike</td>\n",
              "      <td>8</td>\n",
              "      <td>45</td>\n",
              "      <td>120</td>\n",
              "      <td>360</td>\n",
              "      <td>960</td>\n",
              "      <td>600</td>\n",
              "    </tr>\n",
              "    <tr>\n",
              "      <th>2</th>\n",
              "      <td>2014-03-23</td>\n",
              "      <td>2014</td>\n",
              "      <td>3</td>\n",
              "      <td>49</td>\n",
              "      <td>31-50</td>\n",
              "      <td>M</td>\n",
              "      <td>Australia</td>\n",
              "      <td>New South Wales</td>\n",
              "      <td>Accessories</td>\n",
              "      <td>Bike Racks</td>\n",
              "      <td>Hitch Rack - 4-Bike</td>\n",
              "      <td>23</td>\n",
              "      <td>45</td>\n",
              "      <td>120</td>\n",
              "      <td>1035</td>\n",
              "      <td>2760</td>\n",
              "      <td>1725</td>\n",
              "    </tr>\n",
              "    <tr>\n",
              "      <th>3</th>\n",
              "      <td>2016-03-23</td>\n",
              "      <td>2016</td>\n",
              "      <td>3</td>\n",
              "      <td>49</td>\n",
              "      <td>31-50</td>\n",
              "      <td>M</td>\n",
              "      <td>Australia</td>\n",
              "      <td>New South Wales</td>\n",
              "      <td>Accessories</td>\n",
              "      <td>Bike Racks</td>\n",
              "      <td>Hitch Rack - 4-Bike</td>\n",
              "      <td>20</td>\n",
              "      <td>45</td>\n",
              "      <td>120</td>\n",
              "      <td>900</td>\n",
              "      <td>2400</td>\n",
              "      <td>1500</td>\n",
              "    </tr>\n",
              "    <tr>\n",
              "      <th>4</th>\n",
              "      <td>2014-05-15</td>\n",
              "      <td>2014</td>\n",
              "      <td>5</td>\n",
              "      <td>47</td>\n",
              "      <td>31-50</td>\n",
              "      <td>F</td>\n",
              "      <td>Australia</td>\n",
              "      <td>New South Wales</td>\n",
              "      <td>Accessories</td>\n",
              "      <td>Bike Racks</td>\n",
              "      <td>Hitch Rack - 4-Bike</td>\n",
              "      <td>4</td>\n",
              "      <td>45</td>\n",
              "      <td>120</td>\n",
              "      <td>180</td>\n",
              "      <td>480</td>\n",
              "      <td>300</td>\n",
              "    </tr>\n",
              "  </tbody>\n",
              "</table>\n",
              "</div>\n",
              "      <button class=\"colab-df-convert\" onclick=\"convertToInteractive('df-89a11db0-d168-4bca-9188-6b6500d06a37')\"\n",
              "              title=\"Convert this dataframe to an interactive table.\"\n",
              "              style=\"display:none;\">\n",
              "        \n",
              "  <svg xmlns=\"http://www.w3.org/2000/svg\" height=\"24px\"viewBox=\"0 0 24 24\"\n",
              "       width=\"24px\">\n",
              "    <path d=\"M0 0h24v24H0V0z\" fill=\"none\"/>\n",
              "    <path d=\"M18.56 5.44l.94 2.06.94-2.06 2.06-.94-2.06-.94-.94-2.06-.94 2.06-2.06.94zm-11 1L8.5 8.5l.94-2.06 2.06-.94-2.06-.94L8.5 2.5l-.94 2.06-2.06.94zm10 10l.94 2.06.94-2.06 2.06-.94-2.06-.94-.94-2.06-.94 2.06-2.06.94z\"/><path d=\"M17.41 7.96l-1.37-1.37c-.4-.4-.92-.59-1.43-.59-.52 0-1.04.2-1.43.59L10.3 9.45l-7.72 7.72c-.78.78-.78 2.05 0 2.83L4 21.41c.39.39.9.59 1.41.59.51 0 1.02-.2 1.41-.59l7.78-7.78 2.81-2.81c.8-.78.8-2.07 0-2.86zM5.41 20L4 18.59l7.72-7.72 1.47 1.35L5.41 20z\"/>\n",
              "  </svg>\n",
              "      </button>\n",
              "      \n",
              "  <style>\n",
              "    .colab-df-container {\n",
              "      display:flex;\n",
              "      flex-wrap:wrap;\n",
              "      gap: 12px;\n",
              "    }\n",
              "\n",
              "    .colab-df-convert {\n",
              "      background-color: #E8F0FE;\n",
              "      border: none;\n",
              "      border-radius: 50%;\n",
              "      cursor: pointer;\n",
              "      display: none;\n",
              "      fill: #1967D2;\n",
              "      height: 32px;\n",
              "      padding: 0 0 0 0;\n",
              "      width: 32px;\n",
              "    }\n",
              "\n",
              "    .colab-df-convert:hover {\n",
              "      background-color: #E2EBFA;\n",
              "      box-shadow: 0px 1px 2px rgba(60, 64, 67, 0.3), 0px 1px 3px 1px rgba(60, 64, 67, 0.15);\n",
              "      fill: #174EA6;\n",
              "    }\n",
              "\n",
              "    [theme=dark] .colab-df-convert {\n",
              "      background-color: #3B4455;\n",
              "      fill: #D2E3FC;\n",
              "    }\n",
              "\n",
              "    [theme=dark] .colab-df-convert:hover {\n",
              "      background-color: #434B5C;\n",
              "      box-shadow: 0px 1px 3px 1px rgba(0, 0, 0, 0.15);\n",
              "      filter: drop-shadow(0px 1px 2px rgba(0, 0, 0, 0.3));\n",
              "      fill: #FFFFFF;\n",
              "    }\n",
              "  </style>\n",
              "\n",
              "      <script>\n",
              "        const buttonEl =\n",
              "          document.querySelector('#df-89a11db0-d168-4bca-9188-6b6500d06a37 button.colab-df-convert');\n",
              "        buttonEl.style.display =\n",
              "          google.colab.kernel.accessAllowed ? 'block' : 'none';\n",
              "\n",
              "        async function convertToInteractive(key) {\n",
              "          const element = document.querySelector('#df-89a11db0-d168-4bca-9188-6b6500d06a37');\n",
              "          const dataTable =\n",
              "            await google.colab.kernel.invokeFunction('convertToInteractive',\n",
              "                                                     [key], {});\n",
              "          if (!dataTable) return;\n",
              "\n",
              "          const docLinkHtml = 'Like what you see? Visit the ' +\n",
              "            '<a target=\"_blank\" href=https://colab.research.google.com/notebooks/data_table.ipynb>data table notebook</a>'\n",
              "            + ' to learn more about interactive tables.';\n",
              "          element.innerHTML = '';\n",
              "          dataTable['output_type'] = 'display_data';\n",
              "          await google.colab.output.renderOutput(dataTable, element);\n",
              "          const docLink = document.createElement('div');\n",
              "          docLink.innerHTML = docLinkHtml;\n",
              "          element.appendChild(docLink);\n",
              "        }\n",
              "      </script>\n",
              "    </div>\n",
              "  </div>\n",
              "  "
            ]
          },
          "metadata": {},
          "execution_count": 16
        }
      ]
    },
    {
      "cell_type": "markdown",
      "source": [
        "### Check the unique value"
      ],
      "metadata": {
        "id": "w5rkFtr5bMM0"
      }
    },
    {
      "cell_type": "markdown",
      "source": [
        "#### Categorical column"
      ],
      "metadata": {
        "id": "GNWSdcoablbj"
      }
    },
    {
      "cell_type": "code",
      "source": [
        "catCol = ['Customer_Gender', 'Country', 'State', 'Product_Category', 'Sub_Category'] #\n",
        "\n",
        "for cat in catCol:\n",
        "  print(bike[cat].unique(), '\\n')"
      ],
      "metadata": {
        "colab": {
          "base_uri": "https://localhost:8080/"
        },
        "id": "ErrqQWOVbq9b",
        "outputId": "c0f023ad-76f4-499f-ae64-9d824f30c01a"
      },
      "execution_count": 17,
      "outputs": [
        {
          "output_type": "stream",
          "name": "stdout",
          "text": [
            "['M' 'F'] \n",
            "\n",
            "['Canada' 'Australia' 'United States' 'Germany' 'France' 'United Kingdom'] \n",
            "\n",
            "['British Columbia' 'New South Wales' 'Victoria' 'Oregon' 'California'\n",
            " 'Saarland' 'Seine Saint Denis' 'Moselle' 'Queensland' 'England' 'Nord'\n",
            " 'Washington' 'Hessen' 'Nordrhein-Westfalen' 'Hamburg' 'Loir et Cher'\n",
            " 'Kentucky' 'Seine (Paris)' 'South Australia' 'Loiret' 'Alberta' 'Bayern'\n",
            " 'Hauts de Seine' 'Yveline' 'Essonne' \"Val d'Oise\" 'Tasmania'\n",
            " 'Seine et Marne' 'Val de Marne' 'Pas de Calais' 'Charente-Maritime'\n",
            " 'Garonne (Haute)' 'Brandenburg' 'Texas' 'New York' 'Florida' 'Somme'\n",
            " 'Illinois' 'South Carolina' 'North Carolina' 'Georgia' 'Virginia' 'Ohio'\n",
            " 'Ontario' 'Wyoming' 'Missouri' 'Montana' 'Utah' 'Minnesota' 'Mississippi'\n",
            " 'Massachusetts' 'Arizona' 'Alabama'] \n",
            "\n",
            "['Accessories' 'Clothing' 'Bikes'] \n",
            "\n",
            "['Bike Racks' 'Bike Stands' 'Bottles and Cages' 'Caps' 'Cleaners'\n",
            " 'Fenders' 'Gloves' 'Helmets' 'Hydration Packs' 'Jerseys' 'Mountain Bikes'\n",
            " 'Road Bikes' 'Shorts' 'Socks' 'Tires and Tubes' 'Touring Bikes' 'Vests'] \n",
            "\n"
          ]
        }
      ]
    },
    {
      "cell_type": "code",
      "source": [
        "# check total unique value for Product column\n",
        "bike['Product'].nunique()"
      ],
      "metadata": {
        "colab": {
          "base_uri": "https://localhost:8080/"
        },
        "id": "bzE7wYVZc2bZ",
        "outputId": "5f0a9970-8e56-4680-de8c-2a135edf5ad3"
      },
      "execution_count": 18,
      "outputs": [
        {
          "output_type": "execute_result",
          "data": {
            "text/plain": [
              "130"
            ]
          },
          "metadata": {},
          "execution_count": 18
        }
      ]
    },
    {
      "cell_type": "markdown",
      "source": [
        "#### Numerical column"
      ],
      "metadata": {
        "id": "5li_cebteMS-"
      }
    },
    {
      "cell_type": "code",
      "source": [
        "bike.describe()"
      ],
      "metadata": {
        "colab": {
          "base_uri": "https://localhost:8080/",
          "height": 300
        },
        "id": "uxPdySVjeO-B",
        "outputId": "3f66a528-6c57-4c64-d880-1d9ffe0ca2c1"
      },
      "execution_count": 19,
      "outputs": [
        {
          "output_type": "execute_result",
          "data": {
            "text/plain": [
              "            Year      Month  Customer_Age  Order_Quantity  Unit_Cost  \\\n",
              "count 112036.000 112036.000    112036.000      112036.000 112036.000   \n",
              "mean    2014.401      6.453        35.920          11.904    267.820   \n",
              "std        1.273      3.478        11.017           9.565    550.219   \n",
              "min     2011.000      1.000        17.000           1.000      1.000   \n",
              "25%     2013.000      4.000        28.000           2.000      2.000   \n",
              "50%     2014.000      6.000        35.000          10.000      9.000   \n",
              "75%     2016.000     10.000        43.000          20.000     42.000   \n",
              "max     2016.000     12.000        87.000          32.000   2171.000   \n",
              "\n",
              "       Unit_Price  Total_Cost    Revenue     Profit  \n",
              "count  112036.000  112036.000 112036.000 112036.000  \n",
              "mean      453.851     471.103    845.162    374.059  \n",
              "std       922.752     886.972   1469.638    596.461  \n",
              "min         2.000       1.000      2.000      1.000  \n",
              "25%         5.000      28.000     70.000     39.000  \n",
              "50%        25.000     112.000    245.000    138.000  \n",
              "75%        70.000     442.000    900.000    435.000  \n",
              "max      3578.000   42978.000  69136.000  26158.000  "
            ],
            "text/html": [
              "\n",
              "  <div id=\"df-8c6abe72-465a-4c69-96cb-58cfeacdfca5\">\n",
              "    <div class=\"colab-df-container\">\n",
              "      <div>\n",
              "<style scoped>\n",
              "    .dataframe tbody tr th:only-of-type {\n",
              "        vertical-align: middle;\n",
              "    }\n",
              "\n",
              "    .dataframe tbody tr th {\n",
              "        vertical-align: top;\n",
              "    }\n",
              "\n",
              "    .dataframe thead th {\n",
              "        text-align: right;\n",
              "    }\n",
              "</style>\n",
              "<table border=\"1\" class=\"dataframe\">\n",
              "  <thead>\n",
              "    <tr style=\"text-align: right;\">\n",
              "      <th></th>\n",
              "      <th>Year</th>\n",
              "      <th>Month</th>\n",
              "      <th>Customer_Age</th>\n",
              "      <th>Order_Quantity</th>\n",
              "      <th>Unit_Cost</th>\n",
              "      <th>Unit_Price</th>\n",
              "      <th>Total_Cost</th>\n",
              "      <th>Revenue</th>\n",
              "      <th>Profit</th>\n",
              "    </tr>\n",
              "  </thead>\n",
              "  <tbody>\n",
              "    <tr>\n",
              "      <th>count</th>\n",
              "      <td>112036.000</td>\n",
              "      <td>112036.000</td>\n",
              "      <td>112036.000</td>\n",
              "      <td>112036.000</td>\n",
              "      <td>112036.000</td>\n",
              "      <td>112036.000</td>\n",
              "      <td>112036.000</td>\n",
              "      <td>112036.000</td>\n",
              "      <td>112036.000</td>\n",
              "    </tr>\n",
              "    <tr>\n",
              "      <th>mean</th>\n",
              "      <td>2014.401</td>\n",
              "      <td>6.453</td>\n",
              "      <td>35.920</td>\n",
              "      <td>11.904</td>\n",
              "      <td>267.820</td>\n",
              "      <td>453.851</td>\n",
              "      <td>471.103</td>\n",
              "      <td>845.162</td>\n",
              "      <td>374.059</td>\n",
              "    </tr>\n",
              "    <tr>\n",
              "      <th>std</th>\n",
              "      <td>1.273</td>\n",
              "      <td>3.478</td>\n",
              "      <td>11.017</td>\n",
              "      <td>9.565</td>\n",
              "      <td>550.219</td>\n",
              "      <td>922.752</td>\n",
              "      <td>886.972</td>\n",
              "      <td>1469.638</td>\n",
              "      <td>596.461</td>\n",
              "    </tr>\n",
              "    <tr>\n",
              "      <th>min</th>\n",
              "      <td>2011.000</td>\n",
              "      <td>1.000</td>\n",
              "      <td>17.000</td>\n",
              "      <td>1.000</td>\n",
              "      <td>1.000</td>\n",
              "      <td>2.000</td>\n",
              "      <td>1.000</td>\n",
              "      <td>2.000</td>\n",
              "      <td>1.000</td>\n",
              "    </tr>\n",
              "    <tr>\n",
              "      <th>25%</th>\n",
              "      <td>2013.000</td>\n",
              "      <td>4.000</td>\n",
              "      <td>28.000</td>\n",
              "      <td>2.000</td>\n",
              "      <td>2.000</td>\n",
              "      <td>5.000</td>\n",
              "      <td>28.000</td>\n",
              "      <td>70.000</td>\n",
              "      <td>39.000</td>\n",
              "    </tr>\n",
              "    <tr>\n",
              "      <th>50%</th>\n",
              "      <td>2014.000</td>\n",
              "      <td>6.000</td>\n",
              "      <td>35.000</td>\n",
              "      <td>10.000</td>\n",
              "      <td>9.000</td>\n",
              "      <td>25.000</td>\n",
              "      <td>112.000</td>\n",
              "      <td>245.000</td>\n",
              "      <td>138.000</td>\n",
              "    </tr>\n",
              "    <tr>\n",
              "      <th>75%</th>\n",
              "      <td>2016.000</td>\n",
              "      <td>10.000</td>\n",
              "      <td>43.000</td>\n",
              "      <td>20.000</td>\n",
              "      <td>42.000</td>\n",
              "      <td>70.000</td>\n",
              "      <td>442.000</td>\n",
              "      <td>900.000</td>\n",
              "      <td>435.000</td>\n",
              "    </tr>\n",
              "    <tr>\n",
              "      <th>max</th>\n",
              "      <td>2016.000</td>\n",
              "      <td>12.000</td>\n",
              "      <td>87.000</td>\n",
              "      <td>32.000</td>\n",
              "      <td>2171.000</td>\n",
              "      <td>3578.000</td>\n",
              "      <td>42978.000</td>\n",
              "      <td>69136.000</td>\n",
              "      <td>26158.000</td>\n",
              "    </tr>\n",
              "  </tbody>\n",
              "</table>\n",
              "</div>\n",
              "      <button class=\"colab-df-convert\" onclick=\"convertToInteractive('df-8c6abe72-465a-4c69-96cb-58cfeacdfca5')\"\n",
              "              title=\"Convert this dataframe to an interactive table.\"\n",
              "              style=\"display:none;\">\n",
              "        \n",
              "  <svg xmlns=\"http://www.w3.org/2000/svg\" height=\"24px\"viewBox=\"0 0 24 24\"\n",
              "       width=\"24px\">\n",
              "    <path d=\"M0 0h24v24H0V0z\" fill=\"none\"/>\n",
              "    <path d=\"M18.56 5.44l.94 2.06.94-2.06 2.06-.94-2.06-.94-.94-2.06-.94 2.06-2.06.94zm-11 1L8.5 8.5l.94-2.06 2.06-.94-2.06-.94L8.5 2.5l-.94 2.06-2.06.94zm10 10l.94 2.06.94-2.06 2.06-.94-2.06-.94-.94-2.06-.94 2.06-2.06.94z\"/><path d=\"M17.41 7.96l-1.37-1.37c-.4-.4-.92-.59-1.43-.59-.52 0-1.04.2-1.43.59L10.3 9.45l-7.72 7.72c-.78.78-.78 2.05 0 2.83L4 21.41c.39.39.9.59 1.41.59.51 0 1.02-.2 1.41-.59l7.78-7.78 2.81-2.81c.8-.78.8-2.07 0-2.86zM5.41 20L4 18.59l7.72-7.72 1.47 1.35L5.41 20z\"/>\n",
              "  </svg>\n",
              "      </button>\n",
              "      \n",
              "  <style>\n",
              "    .colab-df-container {\n",
              "      display:flex;\n",
              "      flex-wrap:wrap;\n",
              "      gap: 12px;\n",
              "    }\n",
              "\n",
              "    .colab-df-convert {\n",
              "      background-color: #E8F0FE;\n",
              "      border: none;\n",
              "      border-radius: 50%;\n",
              "      cursor: pointer;\n",
              "      display: none;\n",
              "      fill: #1967D2;\n",
              "      height: 32px;\n",
              "      padding: 0 0 0 0;\n",
              "      width: 32px;\n",
              "    }\n",
              "\n",
              "    .colab-df-convert:hover {\n",
              "      background-color: #E2EBFA;\n",
              "      box-shadow: 0px 1px 2px rgba(60, 64, 67, 0.3), 0px 1px 3px 1px rgba(60, 64, 67, 0.15);\n",
              "      fill: #174EA6;\n",
              "    }\n",
              "\n",
              "    [theme=dark] .colab-df-convert {\n",
              "      background-color: #3B4455;\n",
              "      fill: #D2E3FC;\n",
              "    }\n",
              "\n",
              "    [theme=dark] .colab-df-convert:hover {\n",
              "      background-color: #434B5C;\n",
              "      box-shadow: 0px 1px 3px 1px rgba(0, 0, 0, 0.15);\n",
              "      filter: drop-shadow(0px 1px 2px rgba(0, 0, 0, 0.3));\n",
              "      fill: #FFFFFF;\n",
              "    }\n",
              "  </style>\n",
              "\n",
              "      <script>\n",
              "        const buttonEl =\n",
              "          document.querySelector('#df-8c6abe72-465a-4c69-96cb-58cfeacdfca5 button.colab-df-convert');\n",
              "        buttonEl.style.display =\n",
              "          google.colab.kernel.accessAllowed ? 'block' : 'none';\n",
              "\n",
              "        async function convertToInteractive(key) {\n",
              "          const element = document.querySelector('#df-8c6abe72-465a-4c69-96cb-58cfeacdfca5');\n",
              "          const dataTable =\n",
              "            await google.colab.kernel.invokeFunction('convertToInteractive',\n",
              "                                                     [key], {});\n",
              "          if (!dataTable) return;\n",
              "\n",
              "          const docLinkHtml = 'Like what you see? Visit the ' +\n",
              "            '<a target=\"_blank\" href=https://colab.research.google.com/notebooks/data_table.ipynb>data table notebook</a>'\n",
              "            + ' to learn more about interactive tables.';\n",
              "          element.innerHTML = '';\n",
              "          dataTable['output_type'] = 'display_data';\n",
              "          await google.colab.output.renderOutput(dataTable, element);\n",
              "          const docLink = document.createElement('div');\n",
              "          docLink.innerHTML = docLinkHtml;\n",
              "          element.appendChild(docLink);\n",
              "        }\n",
              "      </script>\n",
              "    </div>\n",
              "  </div>\n",
              "  "
            ]
          },
          "metadata": {},
          "execution_count": 19
        }
      ]
    },
    {
      "cell_type": "code",
      "source": [
        "# age and order quantity distribution\n",
        "fig, ax = plt.subplots(1, 2, figsize=(14, 6))\n",
        "\n",
        "sns.histplot(\n",
        "    data=bike,\n",
        "    x='Customer_Age',\n",
        "    hue='Customer_Gender',\n",
        "    kde=True,\n",
        "    palette='dark',\n",
        "    ax=ax[0]\n",
        ")\n",
        "\n",
        "sns.histplot(\n",
        "    data=bike,\n",
        "    x='Order_Quantity',\n",
        "    kde=True,\n",
        "    palette='dark',\n",
        "    ax=ax[1]\n",
        ");"
      ],
      "metadata": {
        "colab": {
          "base_uri": "https://localhost:8080/",
          "height": 388
        },
        "id": "OVqRuazHbstC",
        "outputId": "96634362-f5d9-44e8-d37b-40addbd445e2"
      },
      "execution_count": 20,
      "outputs": [
        {
          "output_type": "display_data",
          "data": {
            "text/plain": [
              "<Figure size 1008x432 with 2 Axes>"
            ],
            "image/png": "[encoded data removed]"
          },
          "metadata": {}
        }
      ]
    },
    {
      "cell_type": "code",
      "source": [
        "# unit cost and unit price distribution\n",
        "numCol_0 = bike[['Unit_Cost', 'Unit_Price']].copy()\n",
        "\n",
        "sns.boxplot(\n",
        "    data=numCol_0\n",
        ");"
      ],
      "metadata": {
        "colab": {
          "base_uri": "https://localhost:8080/",
          "height": 347
        },
        "id": "oUhuvjDRqZt1",
        "outputId": "44146b5f-cc78-4936-e5a6-93c01fadd356"
      },
      "execution_count": 21,
      "outputs": [
        {
          "output_type": "display_data",
          "data": {
            "text/plain": [
              "<Figure size 576x396 with 1 Axes>"
            ],
            "image/png": "[encoded data removed]"
          },
          "metadata": {}
        }
      ]
    },
    {
      "cell_type": "code",
      "source": [
        "# total cost, revenue and profit distribution\n",
        "numCol_1 = bike[['Total_Cost', 'Revenue', 'Profit']].copy()\n",
        "\n",
        "sns.boxplot(\n",
        "    data=numCol_1\n",
        ");"
      ],
      "metadata": {
        "colab": {
          "base_uri": "https://localhost:8080/",
          "height": 347
        },
        "id": "8ux5xHgmoBq4",
        "outputId": "f8ae6710-5a56-4c52-b49b-bd017078c66b"
      },
      "execution_count": 22,
      "outputs": [
        {
          "output_type": "display_data",
          "data": {
            "text/plain": [
              "<Figure size 576x396 with 1 Axes>"
            ],
            "image/png": "[encoded data removed]"
          },
          "metadata": {}
        }
      ]
    },
    {
      "cell_type": "markdown",
      "source": [
        "### Bussines Question"
      ],
      "metadata": {
        "id": "Tw1WcWuK0F_o"
      }
    },
    {
      "cell_type": "markdown",
      "source": [
        "#### Q1: *What year and month has the highest profit?*"
      ],
      "metadata": {
        "id": "tvwhigozIZh1"
      }
    },
    {
      "cell_type": "markdown",
      "source": [
        "Create the visualization for Year"
      ],
      "metadata": {
        "id": "SFcAzfFeJhGY"
      }
    },
    {
      "cell_type": "code",
      "source": [
        "bike['Year'].unique()"
      ],
      "metadata": {
        "colab": {
          "base_uri": "https://localhost:8080/"
        },
        "id": "_waBXqsMJZ7I",
        "outputId": "775b69e1-ff46-494e-97a3-94fb97c488d3"
      },
      "execution_count": 23,
      "outputs": [
        {
          "output_type": "execute_result",
          "data": {
            "text/plain": [
              "array([2013, 2015, 2014, 2016, 2012, 2011])"
            ]
          },
          "metadata": {},
          "execution_count": 23
        }
      ]
    },
    {
      "cell_type": "code",
      "source": [
        "year = bike.groupby('Year')[['Revenue', 'Profit']].sum().reset_index()\n",
        "\n",
        "#create the viz\n",
        "fig, ax = plt.subplots(1, 2, figsize=(14, 6))\n",
        "\n",
        "ax0 = sns.lineplot(\n",
        "    data=year,\n",
        "    x='Year',\n",
        "    y='Revenue',\n",
        "    marker='o',\n",
        "    color='g',\n",
        "    ax=ax[0]\n",
        ")\n",
        "\n",
        "ax1 = sns.lineplot(\n",
        "    data=year,\n",
        "    x='Year',\n",
        "    y='Profit',\n",
        "    marker='o',\n",
        "    color='g',\n",
        "    ax=ax[1]\n",
        ")\n",
        "\n",
        "ax0.set_title('Revenue by year')\n",
        "ax0.ticklabel_format(style='plain', axis='y')\n",
        "\n",
        "ax1.set_title('Profit by year')\n",
        "ax1.ticklabel_format(style='plain', axis='y');"
      ],
      "metadata": {
        "colab": {
          "base_uri": "https://localhost:8080/",
          "height": 403
        },
        "id": "CgMKyrbW3zSa",
        "outputId": "3d0339a9-521d-4437-dfcf-231e280de7bd"
      },
      "execution_count": 24,
      "outputs": [
        {
          "output_type": "display_data",
          "data": {
            "text/plain": [
              "<Figure size 1008x432 with 2 Axes>"
            ],
            "image/png": "[encoded data removed]"
          },
          "metadata": {}
        }
      ]
    },
    {
      "cell_type": "markdown",
      "source": [
        "Create the visualization for Month"
      ],
      "metadata": {
        "id": "bIeFsbSNNBXt"
      }
    },
    {
      "cell_type": "code",
      "source": [
        "Month = bike.groupby('Month')['Profit'].sum().reset_index()\n",
        "\n",
        "#create the viz\n",
        "ax = sns.barplot(\n",
        "    data=Month,\n",
        "    x='Month',\n",
        "    y='Profit',\n",
        "    palette='mako'\n",
        ")\n",
        "\n",
        "ax.set_title('Profit by month')\n",
        "ax.ticklabel_format(style='plain', axis='y');"
      ],
      "metadata": {
        "colab": {
          "base_uri": "https://localhost:8080/",
          "height": 376
        },
        "id": "bMS3IoQQHvgR",
        "outputId": "53e2e9e1-0eb1-4e73-eb39-7f5c6784f04d"
      },
      "execution_count": 25,
      "outputs": [
        {
          "output_type": "display_data",
          "data": {
            "text/plain": [
              "<Figure size 576x396 with 1 Axes>"
            ],
            "image/png": "[encoded data removed]"
          },
          "metadata": {}
        }
      ]
    },
    {
      "cell_type": "markdown",
      "source": [
        "Create the visualization for Product Category"
      ],
      "metadata": {
        "id": "8wLii0c2EJIc"
      }
    },
    {
      "cell_type": "code",
      "source": [
        "prod_cat = bike.groupby('Product_Category')[['Profit']].sum().reset_index()\n",
        "\n",
        "# create the viz\n",
        "ax0 = sns.barplot(\n",
        "    data=prod_cat,\n",
        "    x='Product_Category',\n",
        "    y='Profit',\n",
        "    palette='mako'\n",
        ")\n",
        "\n",
        "ax0.set_title('Profit by category')\n",
        "ax0.ticklabel_format(style='plain', axis='y');"
      ],
      "metadata": {
        "colab": {
          "base_uri": "https://localhost:8080/",
          "height": 376
        },
        "id": "B1nU6FHPl4IA",
        "outputId": "d07e0d1f-2d61-49a7-8ab0-f8ca244f9322"
      },
      "execution_count": 26,
      "outputs": [
        {
          "output_type": "display_data",
          "data": {
            "text/plain": [
              "<Figure size 576x396 with 1 Axes>"
            ],
            "image/png": "[encoded data removed]"
          },
          "metadata": {}
        }
      ]
    },
    {
      "cell_type": "markdown",
      "source": [
        "##### Conclusion\n",
        "\n",
        "*   The total profit was 40 million USD.\n",
        "*   2015 was the year with the highest sales, and the profit we made was 10 million USD.\n",
        "*   June and December were the months with the highest profits, each gaining a profit of approximately 4 million USD.\n",
        "*   Of the three products, bikes are the most profitable product with a profit of 27 million USD.\n",
        "\n",
        "\n"
      ],
      "metadata": {
        "id": "tpuYYzciOFyB"
      }
    },
    {
      "cell_type": "markdown",
      "source": [
        "#### Q2: *What bikes sold the most? and who is the buyer?*"
      ],
      "metadata": {
        "id": "uJ0iiVMiOaiE"
      }
    },
    {
      "cell_type": "markdown",
      "source": [
        "Create the visualization for Bike sales"
      ],
      "metadata": {
        "id": "znuRd5tREpL0"
      }
    },
    {
      "cell_type": "code",
      "source": [
        "bike_1 = bike[bike['Product_Category'] == 'Bikes']\n",
        "\n",
        "bike_1['Sub_Category'].value_counts()"
      ],
      "metadata": {
        "colab": {
          "base_uri": "https://localhost:8080/"
        },
        "id": "29yQ88KyWCOx",
        "outputId": "9b123d5b-2d0f-4a20-cd66-c0aaa9913e75"
      },
      "execution_count": 27,
      "outputs": [
        {
          "output_type": "execute_result",
          "data": {
            "text/plain": [
              "Road Bikes        13313\n",
              "Mountain Bikes     8803\n",
              "Touring Bikes      3678\n",
              "Name: Sub_Category, dtype: int64"
            ]
          },
          "metadata": {},
          "execution_count": 27
        }
      ]
    },
    {
      "cell_type": "code",
      "source": [
        "bike_1 = bike[bike['Product_Category'] == 'Bikes']\n",
        "\n",
        "# grouping by sub cat\n",
        "bikes_sold = bike_1.groupby('Sub_Category')['Order_Quantity'].sum().reset_index()\n",
        "\n",
        "# grouping by age group and gender\n",
        "age_group = bike_1.groupby(['Age_Group', 'Customer_Gender'])['Order_Quantity'].sum().reset_index()\n",
        "\n",
        "# create the viz\n",
        "fig, ax = plt.subplots(1, 2, figsize=(16, 6))\n",
        "\n",
        "ax0 = sns.barplot(\n",
        "    data=bikes_sold,\n",
        "    x='Sub_Category',\n",
        "    y='Order_Quantity',\n",
        "    palette='mako',\n",
        "    ax=ax[0]\n",
        ")\n",
        "\n",
        "ax1 = sns.barplot(\n",
        "    data=age_group,\n",
        "    x='Age_Group',\n",
        "    y='Order_Quantity',\n",
        "    hue='Customer_Gender',\n",
        "    palette='mako',\n",
        "    ax=ax[1]\n",
        ")\n",
        "\n",
        "ax0.set_title('Bikes with the most sales')\n",
        "ax1.set_title('Bikes sales by age and gender');"
      ],
      "metadata": {
        "colab": {
          "base_uri": "https://localhost:8080/",
          "height": 403
        },
        "id": "drfDxe5oVIG2",
        "outputId": "24b50824-dcc0-4627-8ebb-d8b999297936"
      },
      "execution_count": 28,
      "outputs": [
        {
          "output_type": "display_data",
          "data": {
            "text/plain": [
              "<Figure size 1152x432 with 2 Axes>"
            ],
            "image/png": "[encoded data removed]"
          },
          "metadata": {}
        }
      ]
    },
    {
      "cell_type": "markdown",
      "source": [
        "Create the visualization for Bike sales by gender"
      ],
      "metadata": {
        "id": "SNZUNsuRWUYO"
      }
    },
    {
      "cell_type": "code",
      "source": [
        "bike_1 = bike[bike['Product_Category'] == 'Bikes']\n",
        "bikes_by_gender = bike_1.groupby(['Sub_Category', 'Customer_Gender'])['Order_Quantity'].sum().reset_index()\n",
        "\n",
        "# create the viz\n",
        "sns.barplot(\n",
        "    data=bikes_by_gender,\n",
        "    x='Sub_Category',\n",
        "    y='Order_Quantity',\n",
        "    hue='Customer_Gender',\n",
        "    palette='mako'\n",
        ")\n",
        "\n",
        "plt.title('Bike sales by gender');"
      ],
      "metadata": {
        "colab": {
          "base_uri": "https://localhost:8080/",
          "height": 376
        },
        "id": "tRQR2EnQg-ZA",
        "outputId": "a0616b67-2db3-4f8c-dfbd-c531aba7873f"
      },
      "execution_count": 29,
      "outputs": [
        {
          "output_type": "display_data",
          "data": {
            "text/plain": [
              "<Figure size 576x396 with 1 Axes>"
            ],
            "image/png": "[encoded data removed]"
          },
          "metadata": {}
        }
      ]
    },
    {
      "cell_type": "markdown",
      "source": [
        "Create the visualization for Bike sales by age group"
      ],
      "metadata": {
        "id": "e6dqh3p5WX_W"
      }
    },
    {
      "cell_type": "code",
      "source": [
        "bike_1 = bike[bike['Product_Category'] == 'Bikes']\n",
        "subcat_by_age = bike_1.groupby(['Age_Group', 'Sub_Category'])['Order_Quantity'].sum().reset_index()\n",
        "\n",
        "# create the viz\n",
        "sns.barplot(\n",
        "    data=subcat_by_age,\n",
        "    x='Age_Group',\n",
        "    y='Order_Quantity',\n",
        "    hue='Sub_Category',\n",
        "    palette='mako'\n",
        ")\n",
        "\n",
        "plt.title('Bike sales by age group');"
      ],
      "metadata": {
        "colab": {
          "base_uri": "https://localhost:8080/",
          "height": 376
        },
        "id": "TJrVWtoDVBlH",
        "outputId": "6de0e8c2-977d-44db-cbcd-f6522c3efb99"
      },
      "execution_count": 30,
      "outputs": [
        {
          "output_type": "display_data",
          "data": {
            "text/plain": [
              "<Figure size 576x396 with 1 Axes>"
            ],
            "image/png": "[encoded data removed]"
          },
          "metadata": {}
        }
      ]
    },
    {
      "cell_type": "markdown",
      "source": [
        "##### Conclusion\n",
        "\n",
        "*   Total sales of all types of bikes were 36,201 units.\n",
        "*   Of the three types of bikes, road bikes became the best-selling bikes with a sales quantity of 19,638 units.\n",
        "*   Most bike buyers are aged 31 - 50 years, followed by ages 17 - 30 years.\n",
        "*   Men are the biggest buyers of road bikes.\n",
        "*   Most road bike buyers are aged 31-50 years.\n",
        "\n",
        "\n",
        "\n"
      ],
      "metadata": {
        "id": "AsFhkHudWY8B"
      }
    },
    {
      "cell_type": "markdown",
      "source": [
        "#### Q3: *Which country has the highest sales?*"
      ],
      "metadata": {
        "id": "01iubTLckk_T"
      }
    },
    {
      "cell_type": "markdown",
      "source": [
        "Create the visualization for Bike sales by country"
      ],
      "metadata": {
        "id": "MK1LxRIeFeqj"
      }
    },
    {
      "cell_type": "code",
      "source": [
        "country = bike.groupby('Country')['Revenue'].sum().reset_index()\n",
        "\n",
        "# create the viz\n",
        "ax0 = sns.barplot(\n",
        "    data=country,\n",
        "    x='Country',\n",
        "    y='Revenue',\n",
        "    palette='mako'\n",
        ")\n",
        "\n",
        "ax0.set_title('Sales by country')\n",
        "ax0.ticklabel_format(style='plain', axis='y');"
      ],
      "metadata": {
        "colab": {
          "base_uri": "https://localhost:8080/",
          "height": 376
        },
        "id": "a1ruqINPgJDF",
        "outputId": "3a6e74ab-94f9-4642-a572-b54a4cee7c5d"
      },
      "execution_count": 31,
      "outputs": [
        {
          "output_type": "display_data",
          "data": {
            "text/plain": [
              "<Figure size 576x396 with 1 Axes>"
            ],
            "image/png": "[encoded data removed]"
          },
          "metadata": {}
        }
      ]
    },
    {
      "cell_type": "markdown",
      "source": [
        "Create the visualization for Bike sales by country and category"
      ],
      "metadata": {
        "id": "Xl3zhFpajLs4"
      }
    },
    {
      "cell_type": "code",
      "source": [
        "country_0 = bike.groupby(['Country', 'Product_Category'])['Revenue'].sum().reset_index()\n",
        "\n",
        "# create the viz\n",
        "ax0 = sns.barplot(\n",
        "    data=country_0,\n",
        "    x='Country',\n",
        "    y='Revenue',\n",
        "    hue='Product_Category',\n",
        "    ci=False,\n",
        "    palette='mako'\n",
        ")\n",
        "\n",
        "ax0.set_title('Sales by country and product category')\n",
        "ax0.ticklabel_format(style='plain', axis='y');"
      ],
      "metadata": {
        "colab": {
          "base_uri": "https://localhost:8080/",
          "height": 376
        },
        "id": "ZkbYN1ZKgJIx",
        "outputId": "dd3b187c-d13b-466c-faa1-7f92c4fa5031"
      },
      "execution_count": 32,
      "outputs": [
        {
          "output_type": "display_data",
          "data": {
            "text/plain": [
              "<Figure size 576x396 with 1 Axes>"
            ],
            "image/png": "[encoded data removed]"
          },
          "metadata": {}
        }
      ]
    },
    {
      "cell_type": "markdown",
      "source": [
        "Create the visualization for Bike sales by country and bike type"
      ],
      "metadata": {
        "id": "s7GEUsLSjNLt"
      }
    },
    {
      "cell_type": "code",
      "source": [
        "bike_1 = bike[bike['Product_Category'] == 'Bikes']\n",
        "bikes_by_country = bike_1.groupby(['Country', 'Sub_Category'])['Revenue'].sum().reset_index()\n",
        "\n",
        "# create the viz\n",
        "ax0 = sns.barplot(\n",
        "    data=bikes_by_country,\n",
        "    x='Country',\n",
        "    y='Revenue',\n",
        "    hue='Sub_Category',\n",
        "    palette='mako'\n",
        ")\n",
        "\n",
        "ax0.set_title('sales of bike types country')\n",
        "ax0.ticklabel_format(style='plain', axis='y');"
      ],
      "metadata": {
        "id": "01Dv87tm07E7",
        "colab": {
          "base_uri": "https://localhost:8080/",
          "height": 376
        },
        "outputId": "38d831e9-1bd4-41fc-bb36-0aa34f990f56"
      },
      "execution_count": 33,
      "outputs": [
        {
          "output_type": "display_data",
          "data": {
            "text/plain": [
              "<Figure size 576x396 with 1 Axes>"
            ],
            "image/png": "[encoded data removed]"
          },
          "metadata": {}
        }
      ]
    },
    {
      "cell_type": "markdown",
      "source": [
        "##### Conclusion\n",
        "\n",
        "*   The total sales was 94 million USD.\n",
        "*   America is the highest selling country with total sales of 30 million USD.\n",
        "*   Of all countries, the highest sales came from bikes, followed by accessories and clothing.\n",
        "*   Road bikes are the best-selling bikes in every country\n"
      ],
      "metadata": {
        "id": "7esXBKY_JCvH"
      }
    }
  ]
}